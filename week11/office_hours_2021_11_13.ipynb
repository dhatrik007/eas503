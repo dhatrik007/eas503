{
 "cells": [
  {
   "cell_type": "code",
   "execution_count": null,
   "id": "e7701241",
   "metadata": {},
   "outputs": [],
   "source": [
    "import pandas as pd\n",
    "import sqlite3\n",
    "\n",
    "\n",
    "df = pd.read_csv('all_players.csv')\n",
    "df['Club'].isna().sum()\n"
   ]
  },
  {
   "cell_type": "code",
   "execution_count": null,
   "id": "9ee97163",
   "metadata": {},
   "outputs": [],
   "source": [
    "conn = sqlite3.connect('all_players.db')\n",
    "cur = conn.cursor()\n",
    "df.to_sql('players', conn, if_exists='replace', index=False) # - writes the all_players.df to SQLIte DB\n",
    "conn.commit()\n",
    "conn.close()"
   ]
  },
  {
   "cell_type": "code",
   "execution_count": null,
   "id": "d779ebe2",
   "metadata": {},
   "outputs": [],
   "source": [
    "import pandas as pd\n",
    "import sqlite3\n",
    "from sqlite3 import Error\n",
    "\n",
    "\n",
    "def create_connection(db_file, delete_db=False):\n",
    "    import os\n",
    "    if delete_db and os.path.exists(db_file):\n",
    "        os.remove(db_file)\n",
    "\n",
    "    conn = None\n",
    "    try:\n",
    "        conn = sqlite3.connect(db_file)\n",
    "        conn.execute(\"PRAGMA foreign_keys = 1\")\n",
    "    except Error as e:\n",
    "        print(e)\n",
    "\n",
    "    return conn\n",
    "\n",
    "\n",
    "def create_table(conn, create_table_sql):\n",
    "    try:\n",
    "        c = conn.cursor()\n",
    "        c.execute(create_table_sql)\n",
    "    except Error as e:\n",
    "        print(e)\n",
    "        \n",
    "def execute_sql_statement(sql_statement, conn):\n",
    "    cur = conn.cursor()\n",
    "    cur.execute(sql_statement)\n",
    "    rows = cur.fetchall()\n",
    "\n",
    "    return rows\n"
   ]
  },
  {
   "cell_type": "code",
   "execution_count": null,
   "id": "0fb4b5cb",
   "metadata": {},
   "outputs": [],
   "source": [
    "display(df)"
   ]
  },
  {
   "cell_type": "markdown",
   "id": "be2e16b5",
   "metadata": {},
   "source": [
    "# Tables\n",
    "\n",
    "- Club\n",
    "- Position\n",
    "- Year\n",
    "- Season\n",
    "- Player\n",
    "- PlayerStats\n"
   ]
  },
  {
   "cell_type": "code",
   "execution_count": null,
   "id": "2bce0d0a",
   "metadata": {},
   "outputs": [],
   "source": [
    "conn = sqlite3.connect('all_players.db')"
   ]
  },
  {
   "cell_type": "code",
   "execution_count": null,
   "id": "9d556f35",
   "metadata": {},
   "outputs": [],
   "source": [
    "sql_statement = \"SELECT DISTINCT CLUB FROM players\"\n",
    "rows = execute_sql_statement(sql_statement, conn)\n",
    "rows = filter(lambda row: row[0], rows)\n",
    "clubs = list(map(lambda row: row[0].strip(), rows))\n",
    "clubs = list(set(clubs))"
   ]
  },
  {
   "cell_type": "code",
   "execution_count": null,
   "id": "9de8bffa",
   "metadata": {},
   "outputs": [],
   "source": [
    "from collections import Counter\n",
    "\n",
    "counter = Counter(clubs)\n",
    "print(counter)"
   ]
  },
  {
   "cell_type": "code",
   "execution_count": null,
   "id": "d7c9d9bc",
   "metadata": {},
   "outputs": [],
   "source": [
    "# write create statement\n",
    "# execute create statement\n",
    "# fetch unique values\n",
    "# write insert function\n",
    "# feed unique values into insert function\n"
   ]
  },
  {
   "cell_type": "code",
   "execution_count": null,
   "id": "e15f2e4f",
   "metadata": {},
   "outputs": [],
   "source": [
    "conn_norm.close()"
   ]
  },
  {
   "cell_type": "code",
   "execution_count": null,
   "id": "12de3e20",
   "metadata": {},
   "outputs": [],
   "source": [
    "conn_norm = create_connection('players_norm.db', True)"
   ]
  },
  {
   "cell_type": "code",
   "execution_count": null,
   "id": "4cfb14a8",
   "metadata": {},
   "outputs": [],
   "source": [
    "create_table_sql = \"\"\"CREATE TABLE IF NOT EXISTS[Clubs] (\n",
    "    [Club] TEXT NOT NULL PRIMARY KEY\n",
    ");\n",
    "\"\"\"\n",
    "\n",
    "create_table(conn_norm, create_table_sql) # doesn't require commit\n"
   ]
  },
  {
   "cell_type": "code",
   "execution_count": null,
   "id": "f1302d0b",
   "metadata": {},
   "outputs": [],
   "source": [
    "def insert_club(conn, values):\n",
    "    sql = \"\"\"INSERT INTO Clubs(Club)\n",
    "                VALUES(?)\"\"\"\n",
    "    cur = conn.cursor()\n",
    "    cur.execute(sql, values)\n",
    "    return cur.lastrowid\n",
    "\n",
    "\n",
    "with conn_norm:\n",
    "    for club in clubs:\n",
    "        insert_club(conn_norm, (club,))\n",
    "\n"
   ]
  },
  {
   "cell_type": "code",
   "execution_count": null,
   "id": "979fdfb8",
   "metadata": {},
   "outputs": [],
   "source": [
    "sql_statement = \"SELECT DISTINCT CLUB FROM Clubs\"\n",
    "rows = execute_sql_statement(sql_statement, conn_norm)\n",
    "print(rows)"
   ]
  },
  {
   "cell_type": "code",
   "execution_count": null,
   "id": "1568c02a",
   "metadata": {},
   "outputs": [],
   "source": [
    "sql_statement = \"SELECT DISTINCT POS FROM players\"\n",
    "rows = execute_sql_statement(sql_statement, conn)\n",
    "rows = filter(lambda row: row[0], rows)\n",
    "positions = list(map(lambda row: row[0].strip(), rows))\n",
    "positions = list(set(positions))"
   ]
  },
  {
   "cell_type": "code",
   "execution_count": null,
   "id": "0046380c",
   "metadata": {},
   "outputs": [],
   "source": [
    "create_table_sql = \"\"\"CREATE TABLE IF NOT EXISTS[Positions] (\n",
    "    [Position] TEXT NOT NULL PRIMARY KEY\n",
    ");\n",
    "\"\"\"\n",
    "\n",
    "create_table(conn_norm, create_table_sql) # doesn't require commit\n"
   ]
  },
  {
   "cell_type": "code",
   "execution_count": null,
   "id": "5f39e5ae",
   "metadata": {},
   "outputs": [],
   "source": [
    "def insert_position(conn, values):\n",
    "    sql = \"\"\"INSERT INTO Positions(Position)\n",
    "                VALUES(?)\"\"\"\n",
    "    cur = conn.cursor()\n",
    "    cur.execute(sql, values)\n",
    "    return cur.lastrowid\n",
    "\n",
    "\n",
    "with conn_norm:\n",
    "    for position in positions:\n",
    "        insert_position(conn_norm, (position,))\n",
    "\n"
   ]
  },
  {
   "cell_type": "code",
   "execution_count": null,
   "id": "a596c42b",
   "metadata": {},
   "outputs": [],
   "source": [
    "sql_statement = \"SELECT DISTINCT Year FROM players\"\n",
    "rows = execute_sql_statement(sql_statement, conn)\n",
    "rows = filter(lambda row: row[0], rows)\n",
    "years = list(map(lambda row: int(row[0]), rows))\n",
    "years = list(set(years))"
   ]
  },
  {
   "cell_type": "code",
   "execution_count": null,
   "id": "6f63a750",
   "metadata": {},
   "outputs": [],
   "source": [
    "create_table_sql = \"\"\"CREATE TABLE IF NOT EXISTS[Years] (\n",
    "    [Year] INTEGER NOT NULL PRIMARY KEY\n",
    ");\n",
    "\"\"\"\n",
    "\n",
    "create_table(conn_norm, create_table_sql) # doesn't require commit\n"
   ]
  },
  {
   "cell_type": "code",
   "execution_count": null,
   "id": "4c97febd",
   "metadata": {},
   "outputs": [],
   "source": [
    "def insert_year(conn, values):\n",
    "    sql = \"\"\"INSERT INTO Years(Year)\n",
    "                VALUES(?)\"\"\"\n",
    "    cur = conn.cursor()\n",
    "    cur.execute(sql, values)\n",
    "    return cur.lastrowid\n",
    "\n",
    "\n",
    "with conn_norm:\n",
    "    for year in years:\n",
    "        insert_year(conn_norm, (year,))\n",
    "\n"
   ]
  },
  {
   "cell_type": "code",
   "execution_count": null,
   "id": "5e079cef",
   "metadata": {},
   "outputs": [],
   "source": [
    "sql_statement = \"SELECT DISTINCT season FROM players\"\n",
    "rows = execute_sql_statement(sql_statement, conn)\n",
    "rows = filter(lambda row: row[0], rows)\n",
    "seasons = list(map(lambda row: row[0].strip(), rows))\n",
    "seasons = list(set(seasons))"
   ]
  },
  {
   "cell_type": "code",
   "execution_count": null,
   "id": "214d46ab",
   "metadata": {},
   "outputs": [],
   "source": [
    "create_table_sql = \"\"\"CREATE TABLE IF NOT EXISTS[Seasons] (\n",
    "    [Season] TEXT NOT NULL PRIMARY KEY\n",
    ");\n",
    "\"\"\"\n",
    "\n",
    "create_table(conn_norm, create_table_sql) # doesn't require commit\n"
   ]
  },
  {
   "cell_type": "code",
   "execution_count": null,
   "id": "7607867d",
   "metadata": {},
   "outputs": [],
   "source": [
    "def insert_season(conn, values):\n",
    "    sql = \"\"\"INSERT INTO Seasons(season)\n",
    "                VALUES(?)\"\"\"\n",
    "    cur = conn.cursor()\n",
    "    cur.execute(sql, values)\n",
    "    return cur.lastrowid\n",
    "\n",
    "\n",
    "with conn_norm:\n",
    "    for season in seasons:\n",
    "        insert_season(conn_norm, (season,))\n",
    "\n"
   ]
  },
  {
   "cell_type": "code",
   "execution_count": null,
   "id": "13684d39",
   "metadata": {},
   "outputs": [],
   "source": [
    "sql_statement = \"SELECT DISTINCT player FROM players\"\n",
    "rows = execute_sql_statement(sql_statement, conn)\n",
    "players = []\n",
    "for row in rows:\n",
    "    row = row[0].strip()\n",
    "    name = row.split(' ', 1)\n",
    "    if len(name) == 2:\n",
    "        first, last = name\n",
    "        first = first.strip()\n",
    "        last = last.strip()\n",
    "        players.append((first, last))\n",
    "    elif len(name) == 1:\n",
    "        first = name[0]\n",
    "        players.append((first, None))\n"
   ]
  },
  {
   "cell_type": "code",
   "execution_count": null,
   "id": "351e42d1",
   "metadata": {},
   "outputs": [],
   "source": [
    "create_table_sql = \"\"\"CREATE TABLE IF NOT EXISTS[Players] (\n",
    "    [PlayerID] INTEGER NOT NULL PRIMARY KEY,\n",
    "    [FirstName] TEXT NOT NULL,\n",
    "    [LastName] TEXT\n",
    ");\n",
    "\"\"\"\n",
    "\n",
    "create_table(conn_norm, create_table_sql) # doesn't require commit\n"
   ]
  },
  {
   "cell_type": "code",
   "execution_count": null,
   "id": "619730b0",
   "metadata": {},
   "outputs": [],
   "source": [
    "def insert_player(conn, values):\n",
    "    sql = \"\"\"INSERT INTO Players(FirstName, LastName)\n",
    "                VALUES(?, ?)\"\"\"\n",
    "    cur = conn.cursor()\n",
    "    cur.execute(sql, values)\n",
    "    return cur.lastrowid\n",
    "\n",
    "\n",
    "with conn_norm:\n",
    "    for player in players:\n",
    "        insert_player(conn_norm, player)"
   ]
  },
  {
   "cell_type": "code",
   "execution_count": null,
   "id": "3717b553",
   "metadata": {},
   "outputs": [],
   "source": [
    "create_table_sql = \"\"\"CREATE TABLE IF NOT EXISTS[PlayerStats] (\n",
    "    [StatID] INTEGER NOT NULL PRIMARY KEY,\n",
    "    [PlayerID] INTEGER NOT NULL,\n",
    "    [Club] TEXT NOT NULL,\n",
    "    [Position] TEXT NOT NULL,\n",
    "    [GP] INTEGER NOT NULL,\n",
    "    [GS] INTEGER NOT NULL,\n",
    "    [MIN] INTEGER NOT NULL,\n",
    "    [Year] INTEGER NOT NULL,\n",
    "    [Season] TEXT NOT NULL,\n",
    "    FOREIGN KEY(PlayerID) REFERENCES Players(PlayerID),\n",
    "    FOREIGN KEY(Club) REFERENCES Clubs(Club),\n",
    "    FOREIGN KEY(Year) REFERENCES Years(Year),\n",
    "    FOREIGN KEY(Season) REFERENCES Seasons(Season)     \n",
    ");\n",
    "\"\"\"\n",
    "\n",
    "create_table(conn_norm, create_table_sql) # doesn't require commit\n"
   ]
  },
  {
   "cell_type": "code",
   "execution_count": null,
   "id": "6dcd00a7",
   "metadata": {},
   "outputs": [],
   "source": [
    "sql_statement = \"SELECT DISTINCT * FROM players\"\n",
    "rows = execute_sql_statement(sql_statement, conn)\n",
    "rows[:10]\n"
   ]
  },
  {
   "cell_type": "code",
   "execution_count": null,
   "id": "22f22d29",
   "metadata": {},
   "outputs": [],
   "source": [
    "sql_statement = \"SELECT * FROM players\"\n",
    "rows = execute_sql_statement(sql_statement, conn_norm)\n",
    "player_lookup_dict = {}\n",
    "for row in rows:\n",
    "    pid, first, last = row\n",
    "    if last:\n",
    "        name = f'{first} {last}'\n",
    "        player_lookup_dict[name] = pid\n",
    "    else:\n",
    "        player_lookup_dict[first] = pid\n",
    "        \n"
   ]
  },
  {
   "cell_type": "code",
   "execution_count": null,
   "id": "4e863da1",
   "metadata": {},
   "outputs": [],
   "source": [
    "sql_statement = \"SELECT DISTINCT * FROM players\"\n",
    "rows = execute_sql_statement(sql_statement, conn)\n",
    "\n",
    "\n",
    "def insert_playerstats(conn, values):\n",
    "    sql = \"\"\"INSERT INTO PlayerStats(PlayerID, Club, position, gp, gs, min, year, season)\n",
    "                VALUES(?, ?, ?, ?, ?, ?, ?,?)\"\"\"\n",
    "    cur = conn.cursor()\n",
    "    cur.execute(sql, values)\n",
    "    return cur.lastrowid\n",
    "\n",
    "with conn_norm:\n",
    "    for row in rows:\n",
    "        row = list(row)\n",
    "        pid = player_lookup_dict[row[0].strip()]            \n",
    "        row[0] = pid\n",
    "        row[1] = row[1].strip()\n",
    "        print(row)\n",
    "        insert_playerstats(conn_norm, row)\n"
   ]
  },
  {
   "cell_type": "code",
   "execution_count": null,
   "id": "7fc520ff",
   "metadata": {},
   "outputs": [],
   "source": []
  }
 ],
 "metadata": {
  "kernelspec": {
   "display_name": "Python 3 (ipykernel)",
   "language": "python",
   "name": "python3"
  },
  "language_info": {
   "codemirror_mode": {
    "name": "ipython",
    "version": 3
   },
   "file_extension": ".py",
   "mimetype": "text/x-python",
   "name": "python",
   "nbconvert_exporter": "python",
   "pygments_lexer": "ipython3",
   "version": "3.8.5"
  }
 },
 "nbformat": 4,
 "nbformat_minor": 5
}
